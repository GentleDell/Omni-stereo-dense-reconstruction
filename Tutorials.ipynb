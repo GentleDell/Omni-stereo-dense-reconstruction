{
 "cells": [
  {
   "cell_type": "markdown",
   "metadata": {},
   "source": [
    "# Simple Tutorial\n",
    "\n",
    "## Introduction\n",
    "\n",
    "### Description\n",
    "\n",
    "Depth map estimation for regular camera is a well studied topic in computer vision community. Many algorithms have been proposed in recent years, such as learning based mono depth estimation[?] and multiview geometry based depth estimation[?]. However, as these algorithms are based on regular camera model, depth estimation for omnidirectional camera is still a topic to be explored. \n",
    "\n",
    "The differences between regular cameras and omnidirectional cameras are shown in the Figure[?]. For a regular camera, the camera model can be simplified to a camera center plus an image plane. As long as the poses of cameras (from SfM or SLAM) and disparitise (from spares matching or dense matching) are estimated correctly, the depth map can be calculated easily. \n",
    "\n",
    "In comparison, for omnidirectional images (360 image), the \"image plane\" is a sphere. As a result, strong distortions are introduced by the projection from real scenes to the image sphere, leading to the failure of general sparse and dense matching algorithms. Since matching algorithms could not function correctly, disparity maps and the depth maps are relativelly difficult to be estimated. Besides, as the register operation introduces\n",
    "more servere distortions[?], many classical algorithms are not applicable for 360 images. \n",
    "\n",
    "To solve the depth estimation problem for 360 images, here a cubic map based method is implemented. Since the main quesion is how to deal with the distortion caused the camera sphere, projecting a 360 image to its 6 tangent planes (6 cubic maps) is one of the most straght-forward way. The connections between 360 image and cubic maps are shown in Figure[?]. \n",
    "\n",
    "After cube projection, 360 images are decomposed to cubic maps, which can be treated as regular images. In addition, the camera parameters corresponding to these cubic maps can be easily obtained from original 360 images.  Thus, it is possible to use availabel algorithms to estimate depth map for each of these cubic maps. \n",
    "\n",
    "Finally, with estimated cubic depth maps, a inverse projection from cubic maps to 360 images can generate the final 360 depth maps. \n",
    "\n",
    "In this project, the above cubic maps based method is implemented. Depth estimation for the cubic maps is based on the [colmap](https://colmap.github.io/), the patch matching stereo GPU part. \n",
    "\n",
    "This tutorial includes two parts:\n",
    "1. a simple introduction of the provided cubemap class; \n",
    "2. an example of the wrapper for 360 depthmap estimation.\n",
    "\n",
    "### Prerequisites\n",
    "\n",
    "- [Linux](). As the installtion of [pyshtools]() does not work well on Windows, this project is tested on Ubuntu 18.04. \n",
    "\n",
    "- [Numpy](), [OpenCV](), [pyshtools](), [interpolation]() and [?]\n",
    "\n",
    "- To execute the wrapper correctly, you have to install [colmap](https://colmap.github.io/) and GPUs with at least 8GB memory are neccessary."
   ]
  },
  {
   "cell_type": "code",
   "execution_count": 43,
   "metadata": {
    "scrolled": true
   },
   "outputs": [],
   "source": [
    "resolution = 1024"
   ]
  },
  {
   "cell_type": "code",
   "execution_count": 44,
   "metadata": {},
   "outputs": [],
   "source": [
    "Rs = resolution/4\n",
    "Rc = Rs/2"
   ]
  },
  {
   "cell_type": "code",
   "execution_count": 45,
   "metadata": {},
   "outputs": [],
   "source": [
    "angle_sph = np.pi/2/Rs"
   ]
  },
  {
   "cell_type": "code",
   "execution_count": 46,
   "metadata": {},
   "outputs": [],
   "source": [
    "angle_cube = np.diff(np.arctan(np.arange(0, Rc+1) * 1/Rc))"
   ]
  },
  {
   "cell_type": "code",
   "execution_count": 57,
   "metadata": {},
   "outputs": [],
   "source": [
    "weight = (angle_cube - angle_sph)\n",
    "weight[weight < 0] = 0\n",
    "weight = weight/weight.sum()"
   ]
  },
  {
   "cell_type": "code",
   "execution_count": 58,
   "metadata": {},
   "outputs": [
    {
     "data": {
      "text/plain": [
       "[<matplotlib.lines.Line2D at 0x7f7e8635f358>]"
      ]
     },
     "execution_count": 58,
     "metadata": {},
     "output_type": "execute_result"
    },
    {
     "data": {
      "image/png": "[encoded data removed]",
      "text/plain": [
       "<Figure size 432x288 with 1 Axes>"
      ]
     },
     "metadata": {
      "needs_background": "light"
     },
     "output_type": "display_data"
    }
   ],
   "source": [
    "plt.plot(weight)"
   ]
  },
  {
   "cell_type": "code",
   "execution_count": null,
   "metadata": {},
   "outputs": [],
   "source": []
  }
 ],
 "metadata": {
  "kernelspec": {
   "display_name": "Python 3",
   "language": "python",
   "name": "python3"
  },
  "language_info": {
   "codemirror_mode": {
    "name": "ipython",
    "version": 3
   },
   "file_extension": ".py",
   "mimetype": "text/x-python",
   "name": "python",
   "nbconvert_exporter": "python",
   "pygments_lexer": "ipython3",
   "version": "3.7.1"
  }
 },
 "nbformat": 4,
 "nbformat_minor": 2
}
